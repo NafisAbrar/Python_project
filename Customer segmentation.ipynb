{
 "cells": [
  {
   "cell_type": "code",
   "execution_count": null,
   "id": "930a9100-05fe-4879-a526-ad623a6559ff",
   "metadata": {},
   "outputs": [],
   "source": [
    "import pandas as pd"
   ]
  },
  {
   "cell_type": "code",
   "execution_count": null,
   "id": "73e29f98-5ff0-409c-b2a7-5f6748b0b70c",
   "metadata": {
    "scrolled": true
   },
   "outputs": [],
   "source": [
    "df=pd.read_csv('Customer_Segmentation_py.csv')\n",
    "df"
   ]
  },
  {
   "cell_type": "code",
   "execution_count": null,
   "id": "9a9abe6b-d14a-48eb-bf2d-81402de22358",
   "metadata": {},
   "outputs": [],
   "source": [
    "# Q1: Distribution of customers across different age groups (Age_Group)\n",
    "\n",
    "age_group_counts = df['Age_Group'].value_counts().sort_index()\n",
    "print(\"Q1: Distribution of customers across Age Groups\")\n",
    "print(age_group_counts)"
   ]
  },
  {
   "cell_type": "code",
   "execution_count": null,
   "id": "915209c4-6fd2-456a-baee-c0997ab108f4",
   "metadata": {},
   "outputs": [],
   "source": [
    "# Q2: Customer_Gender variation across different countries or states\n",
    "\n",
    "gender_country = pd.crosstab(df['Country'], df['Customer_Gender'])\n",
    "gender_state = pd.crosstab(df['State'], df['Customer_Gender'])\n",
    "\n",
    "print(\"Q2: Customer Gender Variation by Country\")\n",
    "print(gender_country)\n",
    "print(\"\\nQ2: Customer Gender Variation by State\")\n",
    "print(gender_state)"
   ]
  },
  {
   "cell_type": "code",
   "execution_count": null,
   "id": "1386ca71-f08d-4574-bb40-ba0f9e60f0fc",
   "metadata": {},
   "outputs": [],
   "source": [
    "# Q3: Most popular Product_Category and Sub_Category in terms of Order_Quantity\n",
    "\n",
    "category_popularity = df.groupby('Product_Category')['Order_Quantity'].sum().sort_values(ascending=False)\n",
    "subcategory_popularity = df.groupby('Sub_Category')['Order_Quantity'].sum().sort_values(ascending=False)\n",
    "\n",
    "print(\"Q3: Most Popular Product_Category\")\n",
    "print(category_popularity.head(1))\n",
    "print(\"\\nQ3: Most Popular Sub_Category\")\n",
    "print(subcategory_popularity.head(1))"
   ]
  },
  {
   "cell_type": "code",
   "execution_count": null,
   "id": "48a6948d-e90a-4c74-82da-ce709eedbff9",
   "metadata": {},
   "outputs": [],
   "source": [
    "# Q4: Segment customers using K-Means clustering\n",
    "\n",
    "from sklearn.cluster import KMeans\n",
    "from sklearn.preprocessing import StandardScaler\n",
    "\n",
    "df = pd.read_csv(\"Customer_Segmentation_py.csv\")\n",
    "\n",
    "# Select features for clustering\n",
    "X = df[['Order_Quantity', 'Profit', 'Revenue']]\n",
    "\n",
    "# Scale features\n",
    "scaler = StandardScaler()\n",
    "X_scaled = scaler.fit_transform(X)\n",
    "\n",
    "# K-Means clustering (3 clusters as example)\n",
    "kmeans = KMeans(n_clusters=3, random_state=42)\n",
    "df['Cluster'] = kmeans.fit_predict(X_scaled)\n",
    "\n",
    "print(\"Q4: Cluster value counts\")\n",
    "print(df['Cluster'].value_counts())"
   ]
  },
  {
   "cell_type": "code",
   "execution_count": null,
   "id": "85755307-7365-414a-ba25-ffc29632b465",
   "metadata": {},
   "outputs": [],
   "source": [
    "# Q5 — Characteristics of each cluster\n",
    "\n",
    "cluster_characteristics = df.groupby('Cluster')[['Order_Quantity', 'Profit', 'Revenue']].mean()\n",
    "\n",
    "print(\"Q5: Average metrics per cluster\")\n",
    "print(cluster_characteristics)"
   ]
  },
  {
   "cell_type": "code",
   "execution_count": null,
   "id": "bc4288af-e465-4606-8007-be813afa21c0",
   "metadata": {},
   "outputs": [],
   "source": [
    "# Q6: Which Product_Category or Sub_Category generates the highest Profit and Revenue\n",
    "\n",
    "category_profit = df.groupby('Product_Category')[['Profit', 'Revenue']].sum().sort_values(by='Profit', ascending=False)\n",
    "subcategory_profit = df.groupby('Sub_Category')[['Profit', 'Revenue']].sum().sort_values(by='Profit', ascending=False)\n",
    "\n",
    "print(\"Q6: Product_Category with Highest Profit and Revenue\")\n",
    "print(category_profit.head(1))\n",
    "print(\"\\nQ6: Sub_Category with Highest Profit and Revenue\")\n",
    "print(subcategory_profit.head(1))"
   ]
  },
  {
   "cell_type": "code",
   "execution_count": null,
   "id": "5436cf69-ac13-4329-93c2-0bdbdb770d74",
   "metadata": {},
   "outputs": [],
   "source": [
    "# Q7 — Relationship between Unit_Cost, Unit_Price, and Profit\n",
    "\n",
    "correlation_matrix = df[['Unit_Cost', 'Unit_Price', 'Profit']].corr()\n",
    "\n",
    "print(\"Q7: Correlation between Unit_Cost, Unit_Price, and Profit\")\n",
    "print(correlation_matrix)"
   ]
  },
  {
   "cell_type": "code",
   "execution_count": null,
   "id": "93e204b2-8192-4fcc-8fad-253f4b931c20",
   "metadata": {},
   "outputs": [],
   "source": [
    "# Q8 — Which Age_Group contributes most to Revenue and Profit\n",
    "\n",
    "age_group_contrib = df.groupby('Age_Group')[['Revenue', 'Profit']].sum().sort_values(by='Revenue', ascending=False)\n",
    "\n",
    "print(\"Q8: Age Group Contribution to Revenue and Profit\")\n",
    "print(age_group_contrib.head(1))"
   ]
  },
  {
   "cell_type": "code",
   "execution_count": null,
   "id": "9ecf71ee-f186-4824-ac03-7b76ad96e434",
   "metadata": {},
   "outputs": [],
   "source": [
    "# Q9 — How does customer spending (Revenue) differ between Customer_Gender groups\n",
    "\n",
    "gender_revenue = df.groupby('Customer_Gender')['Revenue'].mean()\n",
    "\n",
    "print(\"Q9: Average Revenue by Customer Gender\")\n",
    "print(gender_revenue)"
   ]
  },
  {
   "cell_type": "code",
   "execution_count": null,
   "id": "178b7356-d6fd-4bf9-a48a-74f884ce7bef",
   "metadata": {},
   "outputs": [],
   "source": [
    "# Q10 — Analyze the monthly or yearly trends in Revenue and Profit\n",
    "\n",
    "yearly_trends = df.groupby('Year')[['Revenue', 'Profit']].sum()\n",
    "monthly_trends = df.groupby('Month')[['Revenue', 'Profit']].sum()\n",
    "\n",
    "print(\"Q10: Yearly Trends in Revenue and Profit\")\n",
    "print(yearly_trends)\n",
    "print(\"\\nQ10: Monthly Trends in Revenue and Profit\")\n",
    "print(monthly_trends)"
   ]
  },
  {
   "cell_type": "code",
   "execution_count": null,
   "id": "77cdb410-462e-45e5-ac41-3f3c8b3502cf",
   "metadata": {},
   "outputs": [],
   "source": [
    "from sklearn.model_selection import train_test_split\n",
    "from sklearn.linear_model import LinearRegression\n",
    "\n",
    "\n",
    "# Features and target\n",
    "X = df[['Customer_Age', 'Unit_Cost', 'Unit_Price', 'Order_Quantity', 'Revenue']]\n",
    "y = df['Profit']\n",
    "\n",
    "# Train-test split\n",
    "X_train, X_test, y_train, y_test = train_test_split(X, y, test_size=0.2, random_state=42)\n",
    "\n",
    "# Train model\n",
    "lr = LinearRegression()\n",
    "lr.fit(X_train, y_train)\n",
    "\n",
    "# Predict on test set\n",
    "y_pred = lr.predict(X_test)\n",
    "\n",
    "\n",
    "print(\"\\n--- Predict Profit Based on Your Input ---\")\n",
    "cust_age = float(input(\"Enter Customer Age: \"))\n",
    "unit_cost = float(input(\"Enter Unit Cost: \"))\n",
    "unit_price = float(input(\"Enter Unit Price: \"))\n",
    "order_qty = float(input(\"Enter Order Quantity: \"))\n",
    "revenue = float(input(\"Enter Revenue: \"))\n",
    "\n",
    "# prediction\n",
    "user_input = pd.DataFrame([[cust_age, unit_cost, unit_price, order_qty, revenue]],\n",
    "                          columns=X.columns)\n",
    "predicted_profit = lr.predict(user_input)[0]\n",
    "\n",
    "print(f\"\\nPredicted Profit: {predicted_profit:.2f}\")\n"
   ]
  },
  {
   "cell_type": "code",
   "execution_count": null,
   "id": "9c04fd4e-7843-4cff-89a4-f20122e197a1",
   "metadata": {},
   "outputs": [],
   "source": [
    "# Q13 — Visualize the customer distribution by Country and State\n",
    "\n",
    "import matplotlib.pyplot as plt\n",
    "\n",
    "df = pd.read_csv(\"Customer_Segmentation_py.csv\")\n",
    "\n",
    "# Country distribution\n",
    "country_counts = df['Country'].value_counts()\n",
    "\n",
    "plt.figure(figsize=(8, 5))\n",
    "country_counts.plot(kind='bar', color='skyblue', edgecolor='black')\n",
    "plt.title(\"Customer Distribution by Country\")\n",
    "plt.xlabel(\"Country\")\n",
    "plt.ylabel(\"Number of Customers\")\n",
    "plt.xticks(rotation=45)\n",
    "plt.tight_layout()\n",
    "plt.show()\n",
    "\n",
    "\n",
    "state_counts = df['State'].value_counts()\n",
    "\n",
    "plt.figure(figsize=(10, 6))\n",
    "state_counts.plot(kind='bar', color='orange', edgecolor='black')\n",
    "plt.title(\" Customer distribution by state\")\n",
    "plt.xlabel(\"State\")\n",
    "plt.ylabel(\"Number of Customers\")\n",
    "plt.xticks(rotation=75)\n",
    "plt.tight_layout()\n",
    "plt.show()"
   ]
  },
  {
   "cell_type": "code",
   "execution_count": null,
   "id": "d8db27a2-2f6a-46d6-8eb4-50c7e889eafc",
   "metadata": {},
   "outputs": [],
   "source": [
    "# Q14 — Bar chart showing Revenue or Profit for each Product_Category\n",
    "\n",
    "category_revenue_profit = df.groupby('Product_Category')[['Revenue', 'Profit']].sum().sort_values(by='Revenue', ascending=False)\n",
    "\n",
    "# Revenue plot\n",
    "plt.figure(figsize=(8, 5))\n",
    "category_revenue_profit['Revenue'].plot(kind='bar', color='green', edgecolor='black')\n",
    "plt.title(\"Q14: Revenue by Product Category\")\n",
    "plt.xlabel(\"Product Category\")\n",
    "plt.ylabel(\"Revenue\")\n",
    "plt.xticks(rotation=45)\n",
    "plt.tight_layout()\n",
    "plt.show()\n",
    "\n",
    "# Profit plot\n",
    "plt.figure(figsize=(8, 5))\n",
    "category_revenue_profit['Profit'].plot(kind='bar', color='purple', edgecolor='black')\n",
    "plt.title(\"Q14: Profit by Product Category\")\n",
    "plt.xlabel(\"Product Category\")\n",
    "plt.ylabel(\"Profit\")\n",
    "plt.xticks(rotation=45)\n",
    "plt.tight_layout()\n",
    "plt.show()"
   ]
  },
  {
   "cell_type": "code",
   "execution_count": null,
   "id": "33924723-8e09-4173-9c48-4627af0bf1bd",
   "metadata": {},
   "outputs": [],
   "source": []
  }
 ],
 "metadata": {
  "kernelspec": {
   "display_name": "Python 3 (ipykernel)",
   "language": "python",
   "name": "python3"
  },
  "language_info": {
   "codemirror_mode": {
    "name": "ipython",
    "version": 3
   },
   "file_extension": ".py",
   "mimetype": "text/x-python",
   "name": "python",
   "nbconvert_exporter": "python",
   "pygments_lexer": "ipython3",
   "version": "3.13.5"
  }
 },
 "nbformat": 4,
 "nbformat_minor": 5
}
